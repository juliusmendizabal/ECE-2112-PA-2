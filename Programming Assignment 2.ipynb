{
 "cells": [
  {
   "cell_type": "markdown",
   "id": "53d09396-9efe-4326-9cb3-756459c8e566",
   "metadata": {},
   "source": [
    "NORMALIZATION PROBLEM - Create a random 5 x 5 ndarray and store it to variable X. Normalize X. Save your normalized\n",
    "ndarray as X_normalized.npy"
   ]
  },
  {
   "cell_type": "code",
   "execution_count": 1,
   "id": "89b3fd3e-4ab0-449b-babc-929ad1734b6b",
   "metadata": {},
   "outputs": [
    {
     "name": "stdout",
     "output_type": "stream",
     "text": [
      "Original X:\n",
      " [[0.60423489 0.95246216 0.37034139 0.34759987 0.40803553]\n",
      " [0.58541197 0.27019651 0.77961194 0.52468634 0.13474456]\n",
      " [0.0469708  0.8933261  0.16435033 0.2357241  0.36907789]\n",
      " [0.33635428 0.51731446 0.73872322 0.53859614 0.86901399]\n",
      " [0.03937028 0.12451244 0.43340867 0.28979296 0.6726126 ]]\n",
      "\n",
      "Normalized X:\n",
      " [[ 0.59438046  1.93512996 -0.30615957 -0.3937193  -0.16102908]\n",
      " [ 0.52190819 -0.69173878  1.26961963  0.28810151 -1.2132578 ]\n",
      " [-1.55120552  1.70744349 -1.09926922 -0.82446494 -0.31102432]\n",
      " [-0.43701724  0.25971821  1.11218929  0.34165723  1.61383665]\n",
      " [-1.58046918 -1.25265365 -0.06333704 -0.61628827  0.85764928]]\n"
     ]
    }
   ],
   "source": [
    "import numpy as np\n",
    "\n",
    "# create a 5x5 array with random values\n",
    "X = np.random.random((5, 5))\n",
    "\n",
    "# get normalized value through the formula\n",
    "X_normalized = (X - X.mean()) / X.std()\n",
    "\n",
    "# save the array as .npy file\n",
    "np.save(\"X_normalized.npy\", X_normalized)\n",
    "\n",
    "# print the results\n",
    "print(\"Original X:\\n\", X)\n",
    "print(\"\\nNormalized X:\\n\", X_normalized)"
   ]
  },
  {
   "cell_type": "markdown",
   "id": "1c1cb0fa-7575-47f7-a174-acf2107f6f73",
   "metadata": {},
   "source": [
    "DIVISIBLE BY 3 PROBLEM - Create a 10 x 10 ndarray, which are the squares of the first 100 positive integers. From this ndarray, determine all the elements that are divisible by 3. Save the result as div_by_3.npy"
   ]
  },
  {
   "cell_type": "code",
   "execution_count": 5,
   "id": "672b4c3b-f578-4203-8f86-5900150fa9f5",
   "metadata": {},
   "outputs": [
    {
     "name": "stdout",
     "output_type": "stream",
     "text": [
      "Matrix A (squares of the first 100 integers):\n",
      " [[    1     4     9    16    25    36    49    64    81   100]\n",
      " [  121   144   169   196   225   256   289   324   361   400]\n",
      " [  441   484   529   576   625   676   729   784   841   900]\n",
      " [  961  1024  1089  1156  1225  1296  1369  1444  1521  1600]\n",
      " [ 1681  1764  1849  1936  2025  2116  2209  2304  2401  2500]\n",
      " [ 2601  2704  2809  2916  3025  3136  3249  3364  3481  3600]\n",
      " [ 3721  3844  3969  4096  4225  4356  4489  4624  4761  4900]\n",
      " [ 5041  5184  5329  5476  5625  5776  5929  6084  6241  6400]\n",
      " [ 6561  6724  6889  7056  7225  7396  7569  7744  7921  8100]\n",
      " [ 8281  8464  8649  8836  9025  9216  9409  9604  9801 10000]]\n",
      "\n",
      "Elements divisible by 3:\n",
      " [   9   36   81  144  225  324  441  576  729  900 1089 1296 1521 1764\n",
      " 2025 2304 2601 2916 3249 3600 3969 4356 4761 5184 5625 6084 6561 7056\n",
      " 7569 8100 8649 9216 9801]\n"
     ]
    }
   ],
   "source": [
    "# create ndarray of squares of first 100 positive integers (10x10)\n",
    "A = np.arange(1, 101).reshape(10, 10) ** 2\n",
    "\n",
    "# find elements in the array that are divisible by 3\n",
    "div_by_3 = A[A % 3 == 0]\n",
    "\n",
    "# save array as .npy file\n",
    "np.save(\"div_by_3.npy\", div_by_3)\n",
    "\n",
    "# print results\n",
    "print(\"Matrix A (squares of the first 100 integers):\\n\", A)\n",
    "print(\"\\nElements divisible by 3:\\n\", div_by_3)\n"
   ]
  }
 ],
 "metadata": {
  "kernelspec": {
   "display_name": "Python 3 (ipykernel)",
   "language": "python",
   "name": "python3"
  },
  "language_info": {
   "codemirror_mode": {
    "name": "ipython",
    "version": 3
   },
   "file_extension": ".py",
   "mimetype": "text/x-python",
   "name": "python",
   "nbconvert_exporter": "python",
   "pygments_lexer": "ipython3",
   "version": "3.13.5"
  }
 },
 "nbformat": 4,
 "nbformat_minor": 5
}
